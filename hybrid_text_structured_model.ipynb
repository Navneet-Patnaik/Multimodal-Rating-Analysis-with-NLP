{
  "cells": [
    {
      "cell_type": "markdown",
      "id": "19c0f227",
      "metadata": {
        "id": "19c0f227"
      },
      "source": [
        "# Hybrid CNN+LSTM Model for Rating Classification\n",
        "This notebook covers preprocessing and modeling steps for combining structured data with text data using a CNN+LSTM hybrid model."
      ]
    },
    {
      "cell_type": "code",
      "execution_count": 23,
      "id": "237788d7",
      "metadata": {
        "id": "237788d7"
      },
      "outputs": [],
      "source": [
        "\n",
        "import pandas as pd\n",
        "import numpy as np\n",
        "import re\n",
        "import string\n",
        "\n",
        "from sklearn.model_selection import train_test_split\n",
        "from sklearn.preprocessing import LabelEncoder, MinMaxScaler\n",
        "from sklearn.feature_extraction.text import ENGLISH_STOP_WORDS\n",
        "from nltk.stem import PorterStemmer\n",
        "\n",
        "import tensorflow as tf\n",
        "from tensorflow.keras.preprocessing.text import Tokenizer\n",
        "from tensorflow.keras.preprocessing.sequence import pad_sequences\n",
        "from tensorflow.keras.utils import to_categorical\n",
        "from tensorflow.keras.models import Model\n",
        "from tensorflow.keras.layers import Input, Embedding, Conv1D, MaxPooling1D, LSTM, Dropout, Dense, Concatenate, Flatten\n",
        "from tensorflow.keras.optimizers import Adam\n",
        "from sklearn.metrics import classification_report, accuracy_score\n"
      ]
    },
    {
      "cell_type": "code",
      "execution_count": 24,
      "id": "2e76b00b",
      "metadata": {
        "colab": {
          "base_uri": "https://localhost:8080/",
          "height": 458
        },
        "id": "2e76b00b",
        "outputId": "1ec13f19-409a-427b-a86d-60c02398f0e9"
      },
      "outputs": [
        {
          "output_type": "execute_result",
          "data": {
            "text/plain": [
              "0     0\n",
              "1     1\n",
              "2     1\n",
              "3     2\n",
              "4     0\n",
              "     ..\n",
              "95    2\n",
              "96    0\n",
              "97    1\n",
              "98    1\n",
              "99    2\n",
              "Name: Grouped_Class, Length: 100, dtype: int64"
            ],
            "text/html": [
              "<div>\n",
              "<style scoped>\n",
              "    .dataframe tbody tr th:only-of-type {\n",
              "        vertical-align: middle;\n",
              "    }\n",
              "\n",
              "    .dataframe tbody tr th {\n",
              "        vertical-align: top;\n",
              "    }\n",
              "\n",
              "    .dataframe thead th {\n",
              "        text-align: right;\n",
              "    }\n",
              "</style>\n",
              "<table border=\"1\" class=\"dataframe\">\n",
              "  <thead>\n",
              "    <tr style=\"text-align: right;\">\n",
              "      <th></th>\n",
              "      <th>Grouped_Class</th>\n",
              "    </tr>\n",
              "  </thead>\n",
              "  <tbody>\n",
              "    <tr>\n",
              "      <th>0</th>\n",
              "      <td>0</td>\n",
              "    </tr>\n",
              "    <tr>\n",
              "      <th>1</th>\n",
              "      <td>1</td>\n",
              "    </tr>\n",
              "    <tr>\n",
              "      <th>2</th>\n",
              "      <td>1</td>\n",
              "    </tr>\n",
              "    <tr>\n",
              "      <th>3</th>\n",
              "      <td>2</td>\n",
              "    </tr>\n",
              "    <tr>\n",
              "      <th>4</th>\n",
              "      <td>0</td>\n",
              "    </tr>\n",
              "    <tr>\n",
              "      <th>...</th>\n",
              "      <td>...</td>\n",
              "    </tr>\n",
              "    <tr>\n",
              "      <th>95</th>\n",
              "      <td>2</td>\n",
              "    </tr>\n",
              "    <tr>\n",
              "      <th>96</th>\n",
              "      <td>0</td>\n",
              "    </tr>\n",
              "    <tr>\n",
              "      <th>97</th>\n",
              "      <td>1</td>\n",
              "    </tr>\n",
              "    <tr>\n",
              "      <th>98</th>\n",
              "      <td>1</td>\n",
              "    </tr>\n",
              "    <tr>\n",
              "      <th>99</th>\n",
              "      <td>2</td>\n",
              "    </tr>\n",
              "  </tbody>\n",
              "</table>\n",
              "<p>100 rows × 1 columns</p>\n",
              "</div><br><label><b>dtype:</b> int64</label>"
            ]
          },
          "metadata": {},
          "execution_count": 24
        }
      ],
      "source": [
        "\n",
        "# Load data\n",
        "df = pd.read_excel(\"Artificial_Data.xlsx\")\n",
        "df['Rating_encoded'] = LabelEncoder().fit_transform(df['Rating'])\n",
        "\n",
        "# Define 3-class grouping\n",
        "group_mapping = {\n",
        "    0: 0, 1: 0, 2: 0,\n",
        "    3: 1, 4: 1, 5: 1,\n",
        "    6: 2, 7: 2, 8: 2, 9: 2, 10: 2, 11: 2\n",
        "}\n",
        "df['Grouped_Class'] = df['Rating_encoded'].map(group_mapping)\n",
        "df['Grouped_Class']"
      ]
    },
    {
      "cell_type": "code",
      "execution_count": 25,
      "id": "c56a5d06",
      "metadata": {
        "colab": {
          "base_uri": "https://localhost:8080/",
          "height": 458
        },
        "id": "c56a5d06",
        "outputId": "d7df39e9-bb06-4e64-ea24-aba122a2e230"
      },
      "outputs": [
        {
          "output_type": "execute_result",
          "data": {
            "text/plain": [
              "0     challeng remain suppli chain strateg invest lo...\n",
              "1     compani report steadi increas revenu reflect s...\n",
              "2     compani report steadi increas revenu reflect s...\n",
              "3     compani report steadi increas revenu reflect s...\n",
              "4     compani report steadi increas revenu reflect s...\n",
              "                            ...                        \n",
              "95    outlook remain posit expect growth domest inte...\n",
              "96    outlook remain posit expect growth domest inte...\n",
              "97    challeng remain suppli chain strateg invest lo...\n",
              "98    compani report steadi increas revenu reflect s...\n",
              "99    challeng remain suppli chain strateg invest lo...\n",
              "Name: cleantext, Length: 100, dtype: object"
            ],
            "text/html": [
              "<div>\n",
              "<style scoped>\n",
              "    .dataframe tbody tr th:only-of-type {\n",
              "        vertical-align: middle;\n",
              "    }\n",
              "\n",
              "    .dataframe tbody tr th {\n",
              "        vertical-align: top;\n",
              "    }\n",
              "\n",
              "    .dataframe thead th {\n",
              "        text-align: right;\n",
              "    }\n",
              "</style>\n",
              "<table border=\"1\" class=\"dataframe\">\n",
              "  <thead>\n",
              "    <tr style=\"text-align: right;\">\n",
              "      <th></th>\n",
              "      <th>cleantext</th>\n",
              "    </tr>\n",
              "  </thead>\n",
              "  <tbody>\n",
              "    <tr>\n",
              "      <th>0</th>\n",
              "      <td>challeng remain suppli chain strateg invest lo...</td>\n",
              "    </tr>\n",
              "    <tr>\n",
              "      <th>1</th>\n",
              "      <td>compani report steadi increas revenu reflect s...</td>\n",
              "    </tr>\n",
              "    <tr>\n",
              "      <th>2</th>\n",
              "      <td>compani report steadi increas revenu reflect s...</td>\n",
              "    </tr>\n",
              "    <tr>\n",
              "      <th>3</th>\n",
              "      <td>compani report steadi increas revenu reflect s...</td>\n",
              "    </tr>\n",
              "    <tr>\n",
              "      <th>4</th>\n",
              "      <td>compani report steadi increas revenu reflect s...</td>\n",
              "    </tr>\n",
              "    <tr>\n",
              "      <th>...</th>\n",
              "      <td>...</td>\n",
              "    </tr>\n",
              "    <tr>\n",
              "      <th>95</th>\n",
              "      <td>outlook remain posit expect growth domest inte...</td>\n",
              "    </tr>\n",
              "    <tr>\n",
              "      <th>96</th>\n",
              "      <td>outlook remain posit expect growth domest inte...</td>\n",
              "    </tr>\n",
              "    <tr>\n",
              "      <th>97</th>\n",
              "      <td>challeng remain suppli chain strateg invest lo...</td>\n",
              "    </tr>\n",
              "    <tr>\n",
              "      <th>98</th>\n",
              "      <td>compani report steadi increas revenu reflect s...</td>\n",
              "    </tr>\n",
              "    <tr>\n",
              "      <th>99</th>\n",
              "      <td>challeng remain suppli chain strateg invest lo...</td>\n",
              "    </tr>\n",
              "  </tbody>\n",
              "</table>\n",
              "<p>100 rows × 1 columns</p>\n",
              "</div><br><label><b>dtype:</b> object</label>"
            ]
          },
          "metadata": {},
          "execution_count": 25
        }
      ],
      "source": [
        "\n",
        "# Clean and preprocess text\n",
        "stemmer = PorterStemmer()\n",
        "def clean_text(text):\n",
        "    text = text.lower()\n",
        "    text = re.sub(r\"http\\S+|www\\S+|https\\S+\", \"\", text)\n",
        "    text = re.sub(r\"\\S+@\\S+\", \"\", text)\n",
        "    text = re.sub(r\"\\d+\", \"\", text)\n",
        "    text = re.sub(f\"[{re.escape(string.punctuation)}]\", \"\", text)\n",
        "    text = re.sub(r\"\\s+\", \" \", text).strip()\n",
        "    return text\n",
        "\n",
        "def remove_stopwords_and_stem(text):\n",
        "    return \" \".join([stemmer.stem(word) for word in text.split() if word not in ENGLISH_STOP_WORDS])\n",
        "\n",
        "df[\"cleantext\"] = df[\"string_values\"].astype(str).apply(clean_text).apply(remove_stopwords_and_stem)\n",
        "df[\"cleantext\"]"
      ]
    },
    {
      "cell_type": "code",
      "source": [
        "from sklearn.feature_extraction.text import CountVectorizer\n",
        "from sklearn.decomposition import LatentDirichletAllocation\n",
        "\n",
        "\n",
        "# Step 1: Convert text to bag-of-words\n",
        "vectorizer = CountVectorizer(\n",
        "    max_features=1000,\n",
        "    stop_words='english',\n",
        "    lowercase=True\n",
        ")\n",
        "X_counts = vectorizer.fit_transform(df[\"cleantext\"])\n",
        "\n",
        "# Step 2: Train LDA model\n",
        "lda_model = LatentDirichletAllocation(\n",
        "    n_components=5,  # Number of topics\n",
        "    max_iter=10,\n",
        "    learning_method='online',\n",
        "    random_state=42\n",
        ")\n",
        "lda_topics = lda_model.fit_transform(X_counts)\n",
        "\n",
        "# Step 3: Assign dominant topic to each row\n",
        "df[\"dominant_topic\"] = lda_topics.argmax(axis=1)\n",
        "\n",
        "# Step 4: (Optional) Save enriched file\n",
        "df.to_csv(\"data_with_dominant_topic.csv\", index=False)\n",
        "\n",
        "# Step 5: Preview topic assignments\n",
        "print(df[[\"cleantext\", \"dominant_topic\"]].head())"
      ],
      "metadata": {
        "colab": {
          "base_uri": "https://localhost:8080/"
        },
        "id": "9rgKTsc809Ha",
        "outputId": "682977a8-62f5-47ad-a5de-51efd09ab874"
      },
      "id": "9rgKTsc809Ha",
      "execution_count": 26,
      "outputs": [
        {
          "output_type": "stream",
          "name": "stdout",
          "text": [
            "                                           cleantext  dominant_topic\n",
            "0  challeng remain suppli chain strateg invest lo...               0\n",
            "1  compani report steadi increas revenu reflect s...               3\n",
            "2  compani report steadi increas revenu reflect s...               3\n",
            "3  compani report steadi increas revenu reflect s...               3\n",
            "4  compani report steadi increas revenu reflect s...               3\n"
          ]
        }
      ]
    },
    {
      "cell_type": "code",
      "source": [
        "import seaborn as sns\n",
        "import matplotlib.pyplot as plt\n",
        "from sklearn.preprocessing import LabelEncoder\n",
        "\n",
        "\n",
        "df[\"Rating_encoded\"] = LabelEncoder().fit_transform(df[\"Rating\"])\n",
        "group_mapping = {0: 0, 1: 0, 2: 0, 3: 1, 4: 1, 5: 1, 6: 2, 7: 2, 8: 2, 9: 2, 10: 2, 11: 2}\n",
        "df[\"Grouped_Class\"] = df[\"Rating_encoded\"].map(group_mapping)\n",
        "df[\"sentiment_score\"] = df[\"sentiment_score\"]\n",
        "df[\"dominant_topic\"] = df[\"dominant_topic\"]\n",
        "\n",
        "# Bar plot: average sentiment score by class\n",
        "plt.figure(figsize=(8, 5))\n",
        "sns.barplot(data=df, x=\"Grouped_Class\", y=\"sentiment_score\", ci=None)\n",
        "plt.xticks([0, 1, 2], [\"High\", \"Medium\", \"Low\"])\n",
        "plt.title(\"Average Sentiment Score by Rating Class\")\n",
        "plt.ylabel(\"Average Sentiment Score\")\n",
        "plt.xlabel(\"Rating Class\")\n",
        "plt.tight_layout()\n",
        "plt.show()"
      ],
      "metadata": {
        "colab": {
          "base_uri": "https://localhost:8080/",
          "height": 594
        },
        "id": "3n08SNZV2e3Y",
        "outputId": "41be0bc5-8680-4047-9641-77bc9a722ddb"
      },
      "id": "3n08SNZV2e3Y",
      "execution_count": 28,
      "outputs": [
        {
          "output_type": "stream",
          "name": "stderr",
          "text": [
            "<ipython-input-28-a6649273fb4e>:18: FutureWarning: \n",
            "\n",
            "The `ci` parameter is deprecated. Use `errorbar=None` for the same effect.\n",
            "\n",
            "  sns.barplot(data=df, x=\"Grouped_Class\", y=\"sentiment_score\", ci=None)\n"
          ]
        },
        {
          "output_type": "display_data",
          "data": {
            "text/plain": [
              "<Figure size 800x500 with 1 Axes>"
            ],
            "image/png": "[encoded data removed]"
          },
          "metadata": {}
        }
      ]
    },
    {
      "cell_type": "code",
      "source": [
        "# Topic distribution across grouped rating classes\n",
        "plt.figure(figsize=(10, 6))\n",
        "sns.countplot(data=df, x=\"dominant_topic\", hue=\"Grouped_Class\")\n",
        "plt.xticks(rotation=0)\n",
        "plt.legend(title=\"Rating Class\", labels=[\"High\", \"Medium\", \"Low\"])\n",
        "plt.title(\"Topic Distribution Across Rating Classes\")\n",
        "plt.xlabel(\"Topic\")\n",
        "plt.ylabel(\"Document Count\")\n",
        "plt.tight_layout()\n",
        "plt.show()"
      ],
      "metadata": {
        "colab": {
          "base_uri": "https://localhost:8080/",
          "height": 607
        },
        "id": "SqygnBl28MLO",
        "outputId": "c94cf65c-f1a4-41ac-d300-39dac7be28da"
      },
      "id": "SqygnBl28MLO",
      "execution_count": 29,
      "outputs": [
        {
          "output_type": "display_data",
          "data": {
            "text/plain": [
              "<Figure size 1000x600 with 1 Axes>"
            ],
            "image/png": "[encoded data removed]"
          },
          "metadata": {}
        }
      ]
    },
    {
      "cell_type": "code",
      "source": [],
      "metadata": {
        "id": "-NjcU0T38-gq"
      },
      "id": "-NjcU0T38-gq",
      "execution_count": 36,
      "outputs": []
    },
    {
      "cell_type": "code",
      "execution_count": 30,
      "id": "2d381c1c",
      "metadata": {
        "id": "2d381c1c"
      },
      "outputs": [],
      "source": [
        "\n",
        "# Tokenize text\n",
        "MAX_NB_WORDS = 50000\n",
        "MAX_SEQ_LEN = 100\n",
        "tokenizer = Tokenizer(num_words=MAX_NB_WORDS)\n",
        "tokenizer.fit_on_texts(df[\"cleantext\"])\n",
        "sequences = tokenizer.texts_to_sequences(df[\"cleantext\"])\n",
        "X_text = pad_sequences(sequences, maxlen=MAX_SEQ_LEN)\n",
        "vocab_size = len(tokenizer.word_index) + 1\n"
      ]
    },
    {
      "cell_type": "code",
      "execution_count": 31,
      "id": "744e0659",
      "metadata": {
        "colab": {
          "base_uri": "https://localhost:8080/"
        },
        "id": "744e0659",
        "outputId": "3a1dc91e-c3a9-4c38-886a-4bdd08987a56"
      },
      "outputs": [
        {
          "output_type": "execute_result",
          "data": {
            "text/plain": [
              "array([[1., 0., 0.],\n",
              "       [0., 1., 0.],\n",
              "       [0., 1., 0.],\n",
              "       [0., 0., 1.],\n",
              "       [1., 0., 0.],\n",
              "       [1., 0., 0.],\n",
              "       [0., 1., 0.],\n",
              "       [0., 1., 0.],\n",
              "       [1., 0., 0.],\n",
              "       [1., 0., 0.],\n",
              "       [0., 1., 0.],\n",
              "       [1., 0., 0.],\n",
              "       [1., 0., 0.],\n",
              "       [0., 1., 0.],\n",
              "       [0., 0., 1.],\n",
              "       [0., 1., 0.],\n",
              "       [0., 1., 0.],\n",
              "       [1., 0., 0.],\n",
              "       [0., 0., 1.],\n",
              "       [0., 1., 0.],\n",
              "       [0., 1., 0.],\n",
              "       [1., 0., 0.],\n",
              "       [0., 1., 0.],\n",
              "       [0., 1., 0.],\n",
              "       [0., 1., 0.],\n",
              "       [0., 0., 1.],\n",
              "       [0., 0., 1.],\n",
              "       [0., 0., 1.],\n",
              "       [0., 1., 0.],\n",
              "       [1., 0., 0.],\n",
              "       [1., 0., 0.],\n",
              "       [1., 0., 0.],\n",
              "       [0., 1., 0.],\n",
              "       [0., 0., 1.],\n",
              "       [1., 0., 0.],\n",
              "       [1., 0., 0.],\n",
              "       [0., 1., 0.],\n",
              "       [1., 0., 0.],\n",
              "       [1., 0., 0.],\n",
              "       [0., 0., 1.],\n",
              "       [0., 0., 1.],\n",
              "       [1., 0., 0.],\n",
              "       [0., 1., 0.],\n",
              "       [1., 0., 0.],\n",
              "       [0., 1., 0.],\n",
              "       [0., 0., 1.],\n",
              "       [0., 0., 1.],\n",
              "       [0., 0., 1.],\n",
              "       [0., 0., 1.],\n",
              "       [1., 0., 0.],\n",
              "       [0., 1., 0.],\n",
              "       [0., 0., 1.],\n",
              "       [0., 0., 1.],\n",
              "       [0., 1., 0.],\n",
              "       [0., 1., 0.],\n",
              "       [1., 0., 0.],\n",
              "       [1., 0., 0.],\n",
              "       [1., 0., 0.],\n",
              "       [0., 0., 1.],\n",
              "       [0., 1., 0.],\n",
              "       [0., 0., 1.],\n",
              "       [0., 1., 0.],\n",
              "       [1., 0., 0.],\n",
              "       [1., 0., 0.],\n",
              "       [0., 1., 0.],\n",
              "       [1., 0., 0.],\n",
              "       [0., 0., 1.],\n",
              "       [1., 0., 0.],\n",
              "       [0., 0., 1.],\n",
              "       [0., 0., 1.],\n",
              "       [1., 0., 0.],\n",
              "       [0., 0., 1.],\n",
              "       [1., 0., 0.],\n",
              "       [1., 0., 0.],\n",
              "       [1., 0., 0.],\n",
              "       [1., 0., 0.],\n",
              "       [0., 1., 0.],\n",
              "       [0., 0., 1.],\n",
              "       [1., 0., 0.],\n",
              "       [1., 0., 0.],\n",
              "       [0., 0., 1.],\n",
              "       [1., 0., 0.],\n",
              "       [0., 1., 0.],\n",
              "       [0., 1., 0.],\n",
              "       [1., 0., 0.],\n",
              "       [0., 0., 1.],\n",
              "       [0., 1., 0.],\n",
              "       [1., 0., 0.],\n",
              "       [0., 0., 1.],\n",
              "       [1., 0., 0.],\n",
              "       [1., 0., 0.],\n",
              "       [1., 0., 0.],\n",
              "       [1., 0., 0.],\n",
              "       [1., 0., 0.],\n",
              "       [0., 0., 1.],\n",
              "       [0., 0., 1.],\n",
              "       [1., 0., 0.],\n",
              "       [0., 1., 0.],\n",
              "       [0., 1., 0.],\n",
              "       [0., 0., 1.]])"
            ]
          },
          "metadata": {},
          "execution_count": 31
        }
      ],
      "source": [
        "# Scale structured data\n",
        "X_meta = df.drop(columns=[\"Rating\", \"string_values\", \"cleantext\", \"Rating_encoded\", \"Grouped_Class\"])\n",
        "\n",
        "# Select only numeric features for scaling\n",
        "numeric_features = X_meta.select_dtypes(include=np.number).columns\n",
        "X_meta_numeric = X_meta[numeric_features]\n",
        "\n",
        "scaler = MinMaxScaler()\n",
        "# Only fit and transform on the numeric features\n",
        "X_meta_scaled = scaler.fit_transform(X_meta_numeric)\n",
        "\n",
        "# Convert the scaled data back into a DataFrame\n",
        "X_meta_scaled = pd.DataFrame(X_meta_scaled, columns=numeric_features, index=X_meta.index)\n",
        "\n",
        "# If there are any non-numeric columns, convert them using one-hot encoding\n",
        "non_numeric_features = X_meta.select_dtypes(exclude=np.number).columns\n",
        "if len(non_numeric_features) > 0:\n",
        "    X_meta_non_numeric = X_meta[non_numeric_features]\n",
        "    X_meta_non_numeric_encoded = pd.get_dummies(X_meta_non_numeric,\n",
        "                                               columns=non_numeric_features,  # Specify columns for one-hot\n",
        "                                               dtype=np.float64)  # Ensure dtype is float64\n",
        "    # Concatenate numeric and encoded non-numeric features\n",
        "    X_meta_scaled = pd.concat([X_meta_scaled, X_meta_non_numeric_encoded], axis=1)\n",
        "\n",
        "# Ensure all columns are numeric and of the correct type before converting to NumPy\n",
        "X_meta_scaled = X_meta_scaled.astype(np.float64)  # Force dtype to float64\n",
        "\n",
        "# Encode target\n",
        "y = to_categorical(df[\"Grouped_Class\"], num_classes=3)\n",
        "y"
      ]
    },
    {
      "cell_type": "code",
      "execution_count": 32,
      "id": "37c76989",
      "metadata": {
        "id": "37c76989"
      },
      "outputs": [],
      "source": [
        "# Split into train/test\n",
        "x_train_text, x_test_text, x_train_meta, x_test_meta, y_train, y_test = train_test_split(\n",
        "    X_text, X_meta_scaled, y, test_size=0.2, random_state=42)\n",
        "\n",
        "# Convert DataFrames to NumPy arrays before reshaping\n",
        "x_train_meta = x_train_meta.to_numpy().reshape(x_train_meta.shape[0], x_train_meta.shape[1], 1)\n",
        "x_test_meta = x_test_meta.to_numpy().reshape(x_test_meta.shape[0], x_test_meta.shape[1], 1)"
      ]
    },
    {
      "cell_type": "code",
      "execution_count": 33,
      "id": "9ebd9d7d",
      "metadata": {
        "id": "9ebd9d7d"
      },
      "outputs": [],
      "source": [
        "\n",
        "# Build hybrid CNN + LSTM model\n",
        "def create_hybrid_model(vocab_size, maxlen, embedding_dim, meta_shape, num_classes):\n",
        "    input_meta = Input(shape=meta_shape, name=\"meta_input\")\n",
        "    x_meta = Conv1D(64, 2, activation='relu', padding=\"same\")(input_meta)\n",
        "    x_meta = MaxPooling1D(pool_size=2)(x_meta)\n",
        "    x_meta = LSTM(32)(x_meta)\n",
        "\n",
        "    input_text = Input(shape=(maxlen,), name=\"text_input\")\n",
        "    x_text = Embedding(input_dim=vocab_size, output_dim=embedding_dim, input_length=maxlen)(input_text)\n",
        "    x_text = Conv1D(64, 2, activation='relu', padding=\"same\", strides=2)(x_text)\n",
        "    x_text = MaxPooling1D(pool_size=2)(x_text)\n",
        "    x_text = Dropout(0.1)(x_text)\n",
        "    x_text = Conv1D(32, 2, activation='relu', padding=\"same\")(x_text)\n",
        "    x_text = Dropout(0.1)(x_text)\n",
        "    x_text = Conv1D(16, 2, activation='relu', padding=\"same\", strides=2)(x_text)\n",
        "    x_text = MaxPooling1D(pool_size=2)(x_text)\n",
        "    x_text = LSTM(32)(x_text)\n",
        "    x_text = Dropout(0.5)(x_text)\n",
        "\n",
        "    x = Concatenate()([x_meta, x_text])\n",
        "    x = Flatten()(x)\n",
        "    x = Dense(32, activation=\"relu\")(x)\n",
        "    x = Dropout(0.5)(x)\n",
        "    output = Dense(num_classes, activation=\"softmax\")(x)\n",
        "\n",
        "    model = Model(inputs=[input_text, input_meta], outputs=output)\n",
        "    model.compile(loss='categorical_crossentropy', optimizer=Adam(1e-4), metrics=['accuracy'])\n",
        "    return model\n"
      ]
    },
    {
      "cell_type": "code",
      "execution_count": 34,
      "id": "2b8aff78",
      "metadata": {
        "colab": {
          "base_uri": "https://localhost:8080/"
        },
        "id": "2b8aff78",
        "outputId": "9ea10389-4008-4e2a-f72b-01993dc50f72"
      },
      "outputs": [
        {
          "output_type": "stream",
          "name": "stderr",
          "text": [
            "/usr/local/lib/python3.11/dist-packages/keras/src/layers/core/embedding.py:90: UserWarning: Argument `input_length` is deprecated. Just remove it.\n",
            "  warnings.warn(\n"
          ]
        },
        {
          "output_type": "stream",
          "name": "stdout",
          "text": [
            "Epoch 1/20\n",
            "\u001b[1m5/5\u001b[0m \u001b[32m━━━━━━━━━━━━━━━━━━━━\u001b[0m\u001b[37m\u001b[0m \u001b[1m8s\u001b[0m 260ms/step - accuracy: 0.3241 - loss: 1.0989 - val_accuracy: 0.4000 - val_loss: 1.0928\n",
            "Epoch 2/20\n",
            "\u001b[1m5/5\u001b[0m \u001b[32m━━━━━━━━━━━━━━━━━━━━\u001b[0m\u001b[37m\u001b[0m \u001b[1m2s\u001b[0m 57ms/step - accuracy: 0.3288 - loss: 1.0914 - val_accuracy: 0.4000 - val_loss: 1.0924\n",
            "Epoch 3/20\n",
            "\u001b[1m5/5\u001b[0m \u001b[32m━━━━━━━━━━━━━━━━━━━━\u001b[0m\u001b[37m\u001b[0m \u001b[1m0s\u001b[0m 60ms/step - accuracy: 0.3156 - loss: 1.1006 - val_accuracy: 0.4000 - val_loss: 1.0921\n",
            "Epoch 4/20\n",
            "\u001b[1m5/5\u001b[0m \u001b[32m━━━━━━━━━━━━━━━━━━━━\u001b[0m\u001b[37m\u001b[0m \u001b[1m0s\u001b[0m 100ms/step - accuracy: 0.4236 - loss: 1.0958 - val_accuracy: 0.4000 - val_loss: 1.0917\n",
            "Epoch 5/20\n",
            "\u001b[1m5/5\u001b[0m \u001b[32m━━━━━━━━━━━━━━━━━━━━\u001b[0m\u001b[37m\u001b[0m \u001b[1m1s\u001b[0m 119ms/step - accuracy: 0.3599 - loss: 1.0950 - val_accuracy: 0.4000 - val_loss: 1.0914\n",
            "Epoch 6/20\n",
            "\u001b[1m5/5\u001b[0m \u001b[32m━━━━━━━━━━━━━━━━━━━━\u001b[0m\u001b[37m\u001b[0m \u001b[1m0s\u001b[0m 96ms/step - accuracy: 0.5524 - loss: 1.0799 - val_accuracy: 0.4000 - val_loss: 1.0909\n",
            "Epoch 7/20\n",
            "\u001b[1m5/5\u001b[0m \u001b[32m━━━━━━━━━━━━━━━━━━━━\u001b[0m\u001b[37m\u001b[0m \u001b[1m0s\u001b[0m 102ms/step - accuracy: 0.3998 - loss: 1.0978 - val_accuracy: 0.4000 - val_loss: 1.0906\n",
            "Epoch 8/20\n",
            "\u001b[1m5/5\u001b[0m \u001b[32m━━━━━━━━━━━━━━━━━━━━\u001b[0m\u001b[37m\u001b[0m \u001b[1m1s\u001b[0m 94ms/step - accuracy: 0.4179 - loss: 1.0882 - val_accuracy: 0.4000 - val_loss: 1.0903\n",
            "Epoch 9/20\n",
            "\u001b[1m5/5\u001b[0m \u001b[32m━━━━━━━━━━━━━━━━━━━━\u001b[0m\u001b[37m\u001b[0m \u001b[1m0s\u001b[0m 61ms/step - accuracy: 0.4023 - loss: 1.1012 - val_accuracy: 0.4000 - val_loss: 1.0901\n",
            "Epoch 10/20\n",
            "\u001b[1m5/5\u001b[0m \u001b[32m━━━━━━━━━━━━━━━━━━━━\u001b[0m\u001b[37m\u001b[0m \u001b[1m0s\u001b[0m 59ms/step - accuracy: 0.5035 - loss: 1.0751 - val_accuracy: 0.4000 - val_loss: 1.0898\n",
            "Epoch 11/20\n",
            "\u001b[1m5/5\u001b[0m \u001b[32m━━━━━━━━━━━━━━━━━━━━\u001b[0m\u001b[37m\u001b[0m \u001b[1m0s\u001b[0m 54ms/step - accuracy: 0.4505 - loss: 1.0942 - val_accuracy: 0.4000 - val_loss: 1.0896\n",
            "Epoch 12/20\n",
            "\u001b[1m5/5\u001b[0m \u001b[32m━━━━━━━━━━━━━━━━━━━━\u001b[0m\u001b[37m\u001b[0m \u001b[1m0s\u001b[0m 60ms/step - accuracy: 0.4535 - loss: 1.0799 - val_accuracy: 0.4000 - val_loss: 1.0894\n",
            "Epoch 13/20\n",
            "\u001b[1m5/5\u001b[0m \u001b[32m━━━━━━━━━━━━━━━━━━━━\u001b[0m\u001b[37m\u001b[0m \u001b[1m0s\u001b[0m 55ms/step - accuracy: 0.4267 - loss: 1.0825 - val_accuracy: 0.4000 - val_loss: 1.0893\n",
            "Epoch 14/20\n",
            "\u001b[1m5/5\u001b[0m \u001b[32m━━━━━━━━━━━━━━━━━━━━\u001b[0m\u001b[37m\u001b[0m \u001b[1m0s\u001b[0m 56ms/step - accuracy: 0.4361 - loss: 1.0991 - val_accuracy: 0.4000 - val_loss: 1.0893\n",
            "Epoch 15/20\n",
            "\u001b[1m5/5\u001b[0m \u001b[32m━━━━━━━━━━━━━━━━━━━━\u001b[0m\u001b[37m\u001b[0m \u001b[1m0s\u001b[0m 55ms/step - accuracy: 0.4359 - loss: 1.0857 - val_accuracy: 0.4000 - val_loss: 1.0892\n",
            "Epoch 16/20\n",
            "\u001b[1m5/5\u001b[0m \u001b[32m━━━━━━━━━━━━━━━━━━━━\u001b[0m\u001b[37m\u001b[0m \u001b[1m0s\u001b[0m 63ms/step - accuracy: 0.3771 - loss: 1.0845 - val_accuracy: 0.4000 - val_loss: 1.0891\n",
            "Epoch 17/20\n",
            "\u001b[1m5/5\u001b[0m \u001b[32m━━━━━━━━━━━━━━━━━━━━\u001b[0m\u001b[37m\u001b[0m \u001b[1m0s\u001b[0m 57ms/step - accuracy: 0.3524 - loss: 1.0976 - val_accuracy: 0.4000 - val_loss: 1.0889\n",
            "Epoch 18/20\n",
            "\u001b[1m5/5\u001b[0m \u001b[32m━━━━━━━━━━━━━━━━━━━━\u001b[0m\u001b[37m\u001b[0m \u001b[1m0s\u001b[0m 55ms/step - accuracy: 0.4448 - loss: 1.0767 - val_accuracy: 0.4000 - val_loss: 1.0887\n",
            "Epoch 19/20\n",
            "\u001b[1m5/5\u001b[0m \u001b[32m━━━━━━━━━━━━━━━━━━━━\u001b[0m\u001b[37m\u001b[0m \u001b[1m0s\u001b[0m 56ms/step - accuracy: 0.4167 - loss: 1.0866 - val_accuracy: 0.4000 - val_loss: 1.0884\n",
            "Epoch 20/20\n",
            "\u001b[1m5/5\u001b[0m \u001b[32m━━━━━━━━━━━━━━━━━━━━\u001b[0m\u001b[37m\u001b[0m \u001b[1m0s\u001b[0m 60ms/step - accuracy: 0.4023 - loss: 1.0846 - val_accuracy: 0.4000 - val_loss: 1.0881\n"
          ]
        },
        {
          "output_type": "execute_result",
          "data": {
            "text/plain": [
              "<keras.src.callbacks.history.History at 0x79fa77997990>"
            ]
          },
          "metadata": {},
          "execution_count": 34
        }
      ],
      "source": [
        "\n",
        "# Train model\n",
        "embedding_dim = 100\n",
        "model = create_hybrid_model(vocab_size, MAX_SEQ_LEN, embedding_dim, (x_train_meta.shape[1], 1), 3)\n",
        "model.fit([x_train_text, x_train_meta], y_train, validation_data=([x_test_text, x_test_meta], y_test),\n",
        "          epochs=20, batch_size=16)\n"
      ]
    },
    {
      "cell_type": "code",
      "execution_count": 35,
      "id": "b4afe7a3",
      "metadata": {
        "colab": {
          "base_uri": "https://localhost:8080/"
        },
        "id": "b4afe7a3",
        "outputId": "452a5d2f-4d13-4c69-ee04-fa73cda135b7"
      },
      "outputs": [
        {
          "output_type": "stream",
          "name": "stdout",
          "text": [
            "\u001b[1m1/1\u001b[0m \u001b[32m━━━━━━━━━━━━━━━━━━━━\u001b[0m\u001b[37m\u001b[0m \u001b[1m0s\u001b[0m 472ms/step\n",
            "Accuracy: 0.4\n",
            "              precision    recall  f1-score   support\n",
            "\n",
            "           0       0.40      1.00      0.57         8\n",
            "           1       0.00      0.00      0.00         6\n",
            "           2       0.00      0.00      0.00         6\n",
            "\n",
            "    accuracy                           0.40        20\n",
            "   macro avg       0.13      0.33      0.19        20\n",
            "weighted avg       0.16      0.40      0.23        20\n",
            "\n"
          ]
        },
        {
          "output_type": "stream",
          "name": "stderr",
          "text": [
            "/usr/local/lib/python3.11/dist-packages/sklearn/metrics/_classification.py:1565: UndefinedMetricWarning: Precision is ill-defined and being set to 0.0 in labels with no predicted samples. Use `zero_division` parameter to control this behavior.\n",
            "  _warn_prf(average, modifier, f\"{metric.capitalize()} is\", len(result))\n",
            "/usr/local/lib/python3.11/dist-packages/sklearn/metrics/_classification.py:1565: UndefinedMetricWarning: Precision is ill-defined and being set to 0.0 in labels with no predicted samples. Use `zero_division` parameter to control this behavior.\n",
            "  _warn_prf(average, modifier, f\"{metric.capitalize()} is\", len(result))\n",
            "/usr/local/lib/python3.11/dist-packages/sklearn/metrics/_classification.py:1565: UndefinedMetricWarning: Precision is ill-defined and being set to 0.0 in labels with no predicted samples. Use `zero_division` parameter to control this behavior.\n",
            "  _warn_prf(average, modifier, f\"{metric.capitalize()} is\", len(result))\n"
          ]
        }
      ],
      "source": [
        "\n",
        "# Evaluate\n",
        "y_pred = model.predict([x_test_text, x_test_meta])\n",
        "y_pred_labels = np.argmax(y_pred, axis=1)\n",
        "y_true_labels = np.argmax(y_test, axis=1)\n",
        "\n",
        "print(\"Accuracy:\", accuracy_score(y_true_labels, y_pred_labels))\n",
        "print(classification_report(y_true_labels, y_pred_labels))\n"
      ]
    },
    {
      "cell_type": "code",
      "source": [
        "import matplotlib.pyplot as plt\n",
        "from sklearn.metrics import ConfusionMatrixDisplay, confusion_matrix\n",
        "\n",
        "cm = confusion_matrix(y_true_labels, y_pred_labels)\n",
        "disp = ConfusionMatrixDisplay(confusion_matrix=cm, display_labels=[\"High\", \"Medium\", \"Low\"])\n",
        "disp.plot(cmap=plt.cm.Blues)\n",
        "plt.title(\"Confusion Matrix\")\n",
        "plt.show()"
      ],
      "metadata": {
        "colab": {
          "base_uri": "https://localhost:8080/",
          "height": 472
        },
        "id": "RrKIkeR6W7Pl",
        "outputId": "0478746c-ef93-44b3-bd2b-73463cd1a0e4"
      },
      "id": "RrKIkeR6W7Pl",
      "execution_count": 14,
      "outputs": [
        {
          "output_type": "display_data",
          "data": {
            "text/plain": [
              "<Figure size 640x480 with 2 Axes>"
            ],
            "image/png": "[encoded data removed]"
          },
          "metadata": {}
        }
      ]
    },
    {
      "cell_type": "code",
      "source": [],
      "metadata": {
        "id": "iI2eYPvpE_6h"
      },
      "id": "iI2eYPvpE_6h",
      "execution_count": null,
      "outputs": []
    }
  ],
  "metadata": {
    "colab": {
      "provenance": []
    },
    "language_info": {
      "name": "python"
    },
    "kernelspec": {
      "name": "python3",
      "display_name": "Python 3"
    }
  },
  "nbformat": 4,
  "nbformat_minor": 5
}